{
 "cells": [
  {
   "cell_type": "code",
   "execution_count": 4,
   "metadata": {
    "execution": {
     "iopub.execute_input": "2023-09-15T17:41:52.735004Z",
     "iopub.status.busy": "2023-09-15T17:41:52.734250Z",
     "iopub.status.idle": "2023-09-15T17:41:54.212886Z",
     "shell.execute_reply": "2023-09-15T17:41:54.212009Z"
    }
   },
   "outputs": [],
   "source": [
    "import torch\n",
    "import torch.nn as nn\n",
    "from torch.nn import functional as F\n",
    "\n",
    "# torch.manual_seed(1337)\n",
    "\n",
    "import os\n",
    "import json\n",
    "import numpy as np\n",
    "import matplotlib.pyplot as plt\n",
    "%matplotlib inline\n",
    "\n",
    "from models import GPTLanguageModel, SymGPTLanguageModel, FeedForwardSeqModel, SymLMEncoder\n",
    "from utils import get_batch_, estimate_loss_, calculate_cooc\n",
    "import string\n",
    "\n",
    "from sklearn.cluster import KMeans\n",
    "from random import sample"
   ]
  },
  {
   "cell_type": "code",
   "execution_count": 5,
   "metadata": {
    "execution": {
     "iopub.execute_input": "2023-09-15T17:41:54.219452Z",
     "iopub.status.busy": "2023-09-15T17:41:54.219198Z",
     "iopub.status.idle": "2023-09-15T17:41:54.223633Z",
     "shell.execute_reply": "2023-09-15T17:41:54.223122Z"
    }
   },
   "outputs": [],
   "source": [
    "# training hyperparameters\n",
    "batch_size = 64\n",
    "max_iters = 2000\n",
    "eval_interval = 50\n",
    "learning_rate = 3e-4\n",
    "device = 'cuda' if torch.cuda.is_available() else 'cpu'\n",
    "eval_iters = 200\n",
    "dropout = 0.2\n",
    "\n",
    "# model configuration\n",
    "block_size = n_head = 6\n",
    "n_embd = 128\n",
    "n_layer = 1\n",
    "\n",
    "# encoding config\n",
    "lowercase_only = True\n",
    "intermediate_vocab_size_f = [1.5]  # out_vocab_size = int(f*in_vocab_size)\n",
    "                                        # f=1.0 for output vocabulary be equal to the input vocabulary size\n",
    "f_seed = 1.0                            # fraction of tokens to be used for retokenization clustering   \n",
    "self_loops = True              "
   ]
  },
  {
   "cell_type": "code",
   "execution_count": 6,
   "metadata": {
    "execution": {
     "iopub.execute_input": "2023-09-15T17:41:54.228927Z",
     "iopub.status.busy": "2023-09-15T17:41:54.228761Z",
     "iopub.status.idle": "2023-09-15T17:41:54.232283Z",
     "shell.execute_reply": "2023-09-15T17:41:54.231770Z"
    }
   },
   "outputs": [],
   "source": [
    "outdir = './res/res_encoding_decoding_context_win_{}_vocab_f_{}_cluster_f_{}_{}_self_loops'.format(n_head, \n",
    "                                                                                    '-'.join([str(f) for f in intermediate_vocab_size_f]), \n",
    "                                                                                    f_seed,\n",
    "                                                                                    'w' if self_loops else 'wo')\n",
    "os.makedirs(outdir, exist_ok=True)"
   ]
  },
  {
   "cell_type": "code",
   "execution_count": 7,
   "metadata": {
    "execution": {
     "iopub.execute_input": "2023-09-15T17:41:54.237336Z",
     "iopub.status.busy": "2023-09-15T17:41:54.237112Z",
     "iopub.status.idle": "2023-09-15T17:41:54.252606Z",
     "shell.execute_reply": "2023-09-15T17:41:54.251744Z"
    }
   },
   "outputs": [],
   "source": [
    "# wget https://raw.githubusercontent.com/karpathy/char-rnn/master/data/tinyshakespeare/input.txt\n",
    "with open('./data/input.txt', 'r', encoding='utf-8') as f:\n",
    "    text = f.read()\n",
    "if lowercase_only:\n",
    "    text = text.lower()\n",
    "chars_in_text = sorted(list(set(text)))"
   ]
  },
  {
   "cell_type": "markdown",
   "metadata": {},
   "source": [
    "### Notes: \n",
    "1. The pipeline now uses the character encoding as indexing! This means that we should ALWAYS start the character encoding with 0, [0, vocab_out_size-1]\n",
    "2. Each re-write ignores the first block of tokens because token re-writes are performed using the context of the previous tokens in the block, mean the first block has no context. As a result, the current behavior is that each re-write \"forgets\" the first tokens."
   ]
  },
  {
   "cell_type": "code",
   "execution_count": 8,
   "metadata": {
    "execution": {
     "iopub.execute_input": "2023-09-15T17:41:54.257448Z",
     "iopub.status.busy": "2023-09-15T17:41:54.257232Z",
     "iopub.status.idle": "2023-09-15T17:41:54.263324Z",
     "shell.execute_reply": "2023-09-15T17:41:54.262655Z"
    }
   },
   "outputs": [
    {
     "name": "stdout",
     "output_type": "stream",
     "text": [
      "Max vocabulary size:  100\n",
      "Complete vocabulary:  ['\\n', ' ', '!', '$', '&', \"'\", ',', '-', '.', '3', ':', ';', '?', 'a', 'b', 'c', 'd', 'e', 'f', 'g', 'h', 'i', 'j', 'k', 'l', 'm', 'n', 'o', 'p', 'q', 'r', 's', 't', 'u', 'v', 'w', 'x', 'y', 'z', '0', '1', '2', '4', '5', '6', '7', '8', '9', 'A', 'B', 'C', 'D', 'E', 'F', 'G', 'H', 'I', 'J', 'K', 'L', 'M', 'N', 'O', 'P', 'Q', 'R', 'S', 'T', 'U', 'V', 'W', 'X', 'Y', 'Z', '\"', '#', '%', '(', ')', '*', '+', '/', '<', '=', '>', '@', '[', '\\\\', ']', '^', '_', '`', '{', '|', '}', '~', '\\t', '\\r', '\\x0b', '\\x0c']\n"
     ]
    }
   ],
   "source": [
    "# create a mapping from all printable characters to integers\n",
    "chars = [chr(i) for i in range(128)]    # all ascii characters\n",
    "chars = [i for i in string.printable]   # printable characters\n",
    "chars = chars_in_text + [i for i in string.printable if i not in chars_in_text]   # the initial characters should be indexed first\n",
    "target_vocab_size = len(chars_in_text)\n",
    "max_vocab_size = len(chars)\n",
    "print(\"Max vocabulary size: \", max_vocab_size)\n",
    "print(\"Complete vocabulary: \", chars)\n",
    "stoi = { ch:i for i,ch in enumerate(chars) }\n",
    "itos = { i:ch for i,ch in enumerate(chars) }\n",
    "encode = lambda s: [stoi[c] for c in s] # encoder: take a string, output a list of integers\n",
    "decode = lambda l: ''.join([itos[i] for i in l]) # decoder: take a list of integers, output a string"
   ]
  },
  {
   "cell_type": "markdown",
   "metadata": {},
   "source": [
    "### Encoding phase"
   ]
  },
  {
   "cell_type": "code",
   "execution_count": 9,
   "metadata": {
    "execution": {
     "iopub.execute_input": "2023-09-15T17:41:54.313460Z",
     "iopub.status.busy": "2023-09-15T17:41:54.313118Z",
     "iopub.status.idle": "2023-09-15T17:41:54.412344Z",
     "shell.execute_reply": "2023-09-15T17:41:54.411683Z"
    }
   },
   "outputs": [
    {
     "name": "stdout",
     "output_type": "stream",
     "text": [
      "Chorpus size: 1003854\n"
     ]
    }
   ],
   "source": [
    "# Train and test splits\n",
    "data = torch.tensor(encode(text), dtype=torch.long)\n",
    "n = int(0.9*len(data)) # first 90% will be train, rest val\n",
    "train_data = data[:n]\n",
    "val_data = data[n:]\n",
    "print(\"Chorpus size: {}\".format(len(train_data)))"
   ]
  },
  {
   "cell_type": "code",
   "execution_count": 10,
   "metadata": {
    "execution": {
     "iopub.execute_input": "2023-09-15T17:41:54.427309Z",
     "iopub.status.busy": "2023-09-15T17:41:54.427005Z",
     "iopub.status.idle": "2023-09-15T18:00:24.199049Z",
     "shell.execute_reply": "2023-09-15T18:00:24.198247Z"
    }
   },
   "outputs": [
    {
     "name": "stdout",
     "output_type": "stream",
     "text": [
      "Input vocabulary size: 39\n"
     ]
    },
    {
     "ename": "RuntimeError",
     "evalue": "Expected all tensors to be on the same device, but found at least two devices, cpu and cuda:0! (when checking argument for argument index in method wrapper__index_select)",
     "output_type": "error",
     "traceback": [
      "\u001b[0;31m---------------------------------------------------------------------------\u001b[0m",
      "\u001b[0;31mRuntimeError\u001b[0m                              Traceback (most recent call last)",
      "\u001b[1;32m/home/rissakiagapi/sym-llm/symLM_encoder_decoder.ipynb Cell 9\u001b[0m line \u001b[0;36m<cell line: 11>\u001b[0;34m()\u001b[0m\n\u001b[1;32m     <a href='vscode-notebook-cell://ssh-remote%2Bvldb.khoury.northeastern.edu/home/rissakiagapi/sym-llm/symLM_encoder_decoder.ipynb#X11sdnNjb2RlLXJlbW90ZQ%3D%3D?line=26'>27</a>\u001b[0m symbolic_encoder \u001b[39m=\u001b[39m SymLMEncoder(vocab_out_size, device, cooc, self_loops\u001b[39m=\u001b[39mself_loops)\n\u001b[1;32m     <a href='vscode-notebook-cell://ssh-remote%2Bvldb.khoury.northeastern.edu/home/rissakiagapi/sym-llm/symLM_encoder_decoder.ipynb#X11sdnNjb2RlLXJlbW90ZQ%3D%3D?line=27'>28</a>\u001b[0m \u001b[39m# context-aware representation\u001b[39;00m\n\u001b[0;32m---> <a href='vscode-notebook-cell://ssh-remote%2Bvldb.khoury.northeastern.edu/home/rissakiagapi/sym-llm/symLM_encoder_decoder.ipynb#X11sdnNjb2RlLXJlbW90ZQ%3D%3D?line=28'>29</a>\u001b[0m data_enc_rep, _ \u001b[39m=\u001b[39m symbolic_encoder(torch\u001b[39m.\u001b[39;49mstack([data_in[i:i\u001b[39m+\u001b[39;49mblock_size] \u001b[39mfor\u001b[39;49;00m i \u001b[39min\u001b[39;49;00m \u001b[39mrange\u001b[39;49m(\u001b[39mlen\u001b[39;49m(data_in) \u001b[39m-\u001b[39;49m block_size)]))\n\u001b[1;32m     <a href='vscode-notebook-cell://ssh-remote%2Bvldb.khoury.northeastern.edu/home/rissakiagapi/sym-llm/symLM_encoder_decoder.ipynb#X11sdnNjb2RlLXJlbW90ZQ%3D%3D?line=29'>30</a>\u001b[0m data_val_enc_rep, _ \u001b[39m=\u001b[39m symbolic_encoder(torch\u001b[39m.\u001b[39mstack([data_val_in[i:i\u001b[39m+\u001b[39mblock_size] \u001b[39mfor\u001b[39;00m i \u001b[39min\u001b[39;00m \u001b[39mrange\u001b[39m(\u001b[39mlen\u001b[39m(data_val_in) \u001b[39m-\u001b[39m block_size)]))\n\u001b[1;32m     <a href='vscode-notebook-cell://ssh-remote%2Bvldb.khoury.northeastern.edu/home/rissakiagapi/sym-llm/symLM_encoder_decoder.ipynb#X11sdnNjb2RlLXJlbW90ZQ%3D%3D?line=30'>31</a>\u001b[0m \u001b[39mprint\u001b[39m(\u001b[39m\"\u001b[39m\u001b[39mIntermediate representation size \u001b[39m\u001b[39m{}\u001b[39;00m\u001b[39m: \u001b[39m\u001b[39m{}\u001b[39;00m\u001b[39m\"\u001b[39m\u001b[39m.\u001b[39mformat(it\u001b[39m+\u001b[39m\u001b[39m1\u001b[39m, data_enc_rep\u001b[39m.\u001b[39mshape[\u001b[39m1\u001b[39m]))\n",
      "File \u001b[0;32m~/anaconda3/envs/neuro/lib/python3.9/site-packages/torch/nn/modules/module.py:1130\u001b[0m, in \u001b[0;36mModule._call_impl\u001b[0;34m(self, *input, **kwargs)\u001b[0m\n\u001b[1;32m   1126\u001b[0m \u001b[39m# If we don't have any hooks, we want to skip the rest of the logic in\u001b[39;00m\n\u001b[1;32m   1127\u001b[0m \u001b[39m# this function, and just call forward.\u001b[39;00m\n\u001b[1;32m   1128\u001b[0m \u001b[39mif\u001b[39;00m \u001b[39mnot\u001b[39;00m (\u001b[39mself\u001b[39m\u001b[39m.\u001b[39m_backward_hooks \u001b[39mor\u001b[39;00m \u001b[39mself\u001b[39m\u001b[39m.\u001b[39m_forward_hooks \u001b[39mor\u001b[39;00m \u001b[39mself\u001b[39m\u001b[39m.\u001b[39m_forward_pre_hooks \u001b[39mor\u001b[39;00m _global_backward_hooks\n\u001b[1;32m   1129\u001b[0m         \u001b[39mor\u001b[39;00m _global_forward_hooks \u001b[39mor\u001b[39;00m _global_forward_pre_hooks):\n\u001b[0;32m-> 1130\u001b[0m     \u001b[39mreturn\u001b[39;00m forward_call(\u001b[39m*\u001b[39;49m\u001b[39minput\u001b[39;49m, \u001b[39m*\u001b[39;49m\u001b[39m*\u001b[39;49mkwargs)\n\u001b[1;32m   1131\u001b[0m \u001b[39m# Do not call functions when jit is used\u001b[39;00m\n\u001b[1;32m   1132\u001b[0m full_backward_hooks, non_full_backward_hooks \u001b[39m=\u001b[39m [], []\n",
      "File \u001b[0;32m~/sym-llm/models.py:343\u001b[0m, in \u001b[0;36mSymLMEncoder.forward\u001b[0;34m(self, idx)\u001b[0m\n\u001b[1;32m    341\u001b[0m x \u001b[39m=\u001b[39m idx\u001b[39m.\u001b[39mreshape((B, T, \u001b[39m1\u001b[39m)) \u001b[39m# (B,T,C)\u001b[39;00m\n\u001b[1;32m    342\u001b[0m \u001b[39m# produce context aware intermediate representation\u001b[39;00m\n\u001b[0;32m--> 343\u001b[0m x \u001b[39m=\u001b[39m \u001b[39mself\u001b[39;49m\u001b[39m.\u001b[39;49msym_attn(x) \u001b[39m# (B,T,C)\u001b[39;00m\n\u001b[1;32m    344\u001b[0m \u001b[39m# focus only on the last time step, \u001b[39;00m\n\u001b[1;32m    345\u001b[0m \u001b[39m# the last token uses context from the whole context window/block\u001b[39;00m\n\u001b[1;32m    346\u001b[0m x_rep \u001b[39m=\u001b[39m x[:, \u001b[39m-\u001b[39m\u001b[39m1\u001b[39m, :] \u001b[39m# becomes (B, C)\u001b[39;00m\n",
      "File \u001b[0;32m~/anaconda3/envs/neuro/lib/python3.9/site-packages/torch/nn/modules/module.py:1130\u001b[0m, in \u001b[0;36mModule._call_impl\u001b[0;34m(self, *input, **kwargs)\u001b[0m\n\u001b[1;32m   1126\u001b[0m \u001b[39m# If we don't have any hooks, we want to skip the rest of the logic in\u001b[39;00m\n\u001b[1;32m   1127\u001b[0m \u001b[39m# this function, and just call forward.\u001b[39;00m\n\u001b[1;32m   1128\u001b[0m \u001b[39mif\u001b[39;00m \u001b[39mnot\u001b[39;00m (\u001b[39mself\u001b[39m\u001b[39m.\u001b[39m_backward_hooks \u001b[39mor\u001b[39;00m \u001b[39mself\u001b[39m\u001b[39m.\u001b[39m_forward_hooks \u001b[39mor\u001b[39;00m \u001b[39mself\u001b[39m\u001b[39m.\u001b[39m_forward_pre_hooks \u001b[39mor\u001b[39;00m _global_backward_hooks\n\u001b[1;32m   1129\u001b[0m         \u001b[39mor\u001b[39;00m _global_forward_hooks \u001b[39mor\u001b[39;00m _global_forward_pre_hooks):\n\u001b[0;32m-> 1130\u001b[0m     \u001b[39mreturn\u001b[39;00m forward_call(\u001b[39m*\u001b[39;49m\u001b[39minput\u001b[39;49m, \u001b[39m*\u001b[39;49m\u001b[39m*\u001b[39;49mkwargs)\n\u001b[1;32m   1131\u001b[0m \u001b[39m# Do not call functions when jit is used\u001b[39;00m\n\u001b[1;32m   1132\u001b[0m full_backward_hooks, non_full_backward_hooks \u001b[39m=\u001b[39m [], []\n",
      "File \u001b[0;32m~/sym-llm/models.py:253\u001b[0m, in \u001b[0;36mSymbolicMultiHeadAttentionEncoding.forward\u001b[0;34m(self, x)\u001b[0m\n\u001b[1;32m    252\u001b[0m \u001b[39mdef\u001b[39;00m \u001b[39mforward\u001b[39m(\u001b[39mself\u001b[39m, x):\n\u001b[0;32m--> 253\u001b[0m     out \u001b[39m=\u001b[39m torch\u001b[39m.\u001b[39mcat([h(x) \u001b[39mfor\u001b[39;00m h \u001b[39min\u001b[39;00m \u001b[39mself\u001b[39m\u001b[39m.\u001b[39mheads], dim\u001b[39m=\u001b[39m\u001b[39m-\u001b[39m\u001b[39m1\u001b[39m) \u001b[39m# (B, T, hs*T)\u001b[39;00m\n\u001b[1;32m    254\u001b[0m     \u001b[39mreturn\u001b[39;00m out\n",
      "File \u001b[0;32m~/sym-llm/models.py:253\u001b[0m, in \u001b[0;36m<listcomp>\u001b[0;34m(.0)\u001b[0m\n\u001b[1;32m    252\u001b[0m \u001b[39mdef\u001b[39;00m \u001b[39mforward\u001b[39m(\u001b[39mself\u001b[39m, x):\n\u001b[0;32m--> 253\u001b[0m     out \u001b[39m=\u001b[39m torch\u001b[39m.\u001b[39mcat([h(x) \u001b[39mfor\u001b[39;00m h \u001b[39min\u001b[39;00m \u001b[39mself\u001b[39m\u001b[39m.\u001b[39mheads], dim\u001b[39m=\u001b[39m\u001b[39m-\u001b[39m\u001b[39m1\u001b[39m) \u001b[39m# (B, T, hs*T)\u001b[39;00m\n\u001b[1;32m    254\u001b[0m     \u001b[39mreturn\u001b[39;00m out\n",
      "File \u001b[0;32m~/anaconda3/envs/neuro/lib/python3.9/site-packages/torch/nn/modules/module.py:1130\u001b[0m, in \u001b[0;36mModule._call_impl\u001b[0;34m(self, *input, **kwargs)\u001b[0m\n\u001b[1;32m   1126\u001b[0m \u001b[39m# If we don't have any hooks, we want to skip the rest of the logic in\u001b[39;00m\n\u001b[1;32m   1127\u001b[0m \u001b[39m# this function, and just call forward.\u001b[39;00m\n\u001b[1;32m   1128\u001b[0m \u001b[39mif\u001b[39;00m \u001b[39mnot\u001b[39;00m (\u001b[39mself\u001b[39m\u001b[39m.\u001b[39m_backward_hooks \u001b[39mor\u001b[39;00m \u001b[39mself\u001b[39m\u001b[39m.\u001b[39m_forward_hooks \u001b[39mor\u001b[39;00m \u001b[39mself\u001b[39m\u001b[39m.\u001b[39m_forward_pre_hooks \u001b[39mor\u001b[39;00m _global_backward_hooks\n\u001b[1;32m   1129\u001b[0m         \u001b[39mor\u001b[39;00m _global_forward_hooks \u001b[39mor\u001b[39;00m _global_forward_pre_hooks):\n\u001b[0;32m-> 1130\u001b[0m     \u001b[39mreturn\u001b[39;00m forward_call(\u001b[39m*\u001b[39;49m\u001b[39minput\u001b[39;49m, \u001b[39m*\u001b[39;49m\u001b[39m*\u001b[39;49mkwargs)\n\u001b[1;32m   1131\u001b[0m \u001b[39m# Do not call functions when jit is used\u001b[39;00m\n\u001b[1;32m   1132\u001b[0m full_backward_hooks, non_full_backward_hooks \u001b[39m=\u001b[39m [], []\n",
      "File \u001b[0;32m~/sym-llm/models.py:206\u001b[0m, in \u001b[0;36mSymbolicAttentionHead.forward\u001b[0;34m(self, x)\u001b[0m\n\u001b[1;32m    204\u001b[0m         att_scores[b] \u001b[39m+\u001b[39m\u001b[39m=\u001b[39m self_loops\n\u001b[1;32m    205\u001b[0m \u001b[39m# Perform the weighted aggregation of the values\u001b[39;00m\n\u001b[0;32m--> 206\u001b[0m v \u001b[39m=\u001b[39m \u001b[39mself\u001b[39;49m\u001b[39m.\u001b[39;49mvalue(x\u001b[39m.\u001b[39;49msqueeze()) \u001b[39m# (B,T,hs)\u001b[39;00m\n\u001b[1;32m    207\u001b[0m \u001b[39m# Compute the context-aware representations\u001b[39;00m\n\u001b[1;32m    208\u001b[0m out \u001b[39m=\u001b[39m att_scores \u001b[39m@\u001b[39m v \u001b[39m# (B, T, T) @ (B, T, hs) -> (B, T, hs)\u001b[39;00m\n",
      "File \u001b[0;32m~/anaconda3/envs/neuro/lib/python3.9/site-packages/torch/nn/modules/module.py:1130\u001b[0m, in \u001b[0;36mModule._call_impl\u001b[0;34m(self, *input, **kwargs)\u001b[0m\n\u001b[1;32m   1126\u001b[0m \u001b[39m# If we don't have any hooks, we want to skip the rest of the logic in\u001b[39;00m\n\u001b[1;32m   1127\u001b[0m \u001b[39m# this function, and just call forward.\u001b[39;00m\n\u001b[1;32m   1128\u001b[0m \u001b[39mif\u001b[39;00m \u001b[39mnot\u001b[39;00m (\u001b[39mself\u001b[39m\u001b[39m.\u001b[39m_backward_hooks \u001b[39mor\u001b[39;00m \u001b[39mself\u001b[39m\u001b[39m.\u001b[39m_forward_hooks \u001b[39mor\u001b[39;00m \u001b[39mself\u001b[39m\u001b[39m.\u001b[39m_forward_pre_hooks \u001b[39mor\u001b[39;00m _global_backward_hooks\n\u001b[1;32m   1129\u001b[0m         \u001b[39mor\u001b[39;00m _global_forward_hooks \u001b[39mor\u001b[39;00m _global_forward_pre_hooks):\n\u001b[0;32m-> 1130\u001b[0m     \u001b[39mreturn\u001b[39;00m forward_call(\u001b[39m*\u001b[39;49m\u001b[39minput\u001b[39;49m, \u001b[39m*\u001b[39;49m\u001b[39m*\u001b[39;49mkwargs)\n\u001b[1;32m   1131\u001b[0m \u001b[39m# Do not call functions when jit is used\u001b[39;00m\n\u001b[1;32m   1132\u001b[0m full_backward_hooks, non_full_backward_hooks \u001b[39m=\u001b[39m [], []\n",
      "File \u001b[0;32m~/anaconda3/envs/neuro/lib/python3.9/site-packages/torch/nn/modules/sparse.py:158\u001b[0m, in \u001b[0;36mEmbedding.forward\u001b[0;34m(self, input)\u001b[0m\n\u001b[1;32m    157\u001b[0m \u001b[39mdef\u001b[39;00m \u001b[39mforward\u001b[39m(\u001b[39mself\u001b[39m, \u001b[39minput\u001b[39m: Tensor) \u001b[39m-\u001b[39m\u001b[39m>\u001b[39m Tensor:\n\u001b[0;32m--> 158\u001b[0m     \u001b[39mreturn\u001b[39;00m F\u001b[39m.\u001b[39;49membedding(\n\u001b[1;32m    159\u001b[0m         \u001b[39minput\u001b[39;49m, \u001b[39mself\u001b[39;49m\u001b[39m.\u001b[39;49mweight, \u001b[39mself\u001b[39;49m\u001b[39m.\u001b[39;49mpadding_idx, \u001b[39mself\u001b[39;49m\u001b[39m.\u001b[39;49mmax_norm,\n\u001b[1;32m    160\u001b[0m         \u001b[39mself\u001b[39;49m\u001b[39m.\u001b[39;49mnorm_type, \u001b[39mself\u001b[39;49m\u001b[39m.\u001b[39;49mscale_grad_by_freq, \u001b[39mself\u001b[39;49m\u001b[39m.\u001b[39;49msparse)\n",
      "File \u001b[0;32m~/anaconda3/envs/neuro/lib/python3.9/site-packages/torch/nn/functional.py:2199\u001b[0m, in \u001b[0;36membedding\u001b[0;34m(input, weight, padding_idx, max_norm, norm_type, scale_grad_by_freq, sparse)\u001b[0m\n\u001b[1;32m   2193\u001b[0m     \u001b[39m# Note [embedding_renorm set_grad_enabled]\u001b[39;00m\n\u001b[1;32m   2194\u001b[0m     \u001b[39m# XXX: equivalent to\u001b[39;00m\n\u001b[1;32m   2195\u001b[0m     \u001b[39m# with torch.no_grad():\u001b[39;00m\n\u001b[1;32m   2196\u001b[0m     \u001b[39m#   torch.embedding_renorm_\u001b[39;00m\n\u001b[1;32m   2197\u001b[0m     \u001b[39m# remove once script supports set_grad_enabled\u001b[39;00m\n\u001b[1;32m   2198\u001b[0m     _no_grad_embedding_renorm_(weight, \u001b[39minput\u001b[39m, max_norm, norm_type)\n\u001b[0;32m-> 2199\u001b[0m \u001b[39mreturn\u001b[39;00m torch\u001b[39m.\u001b[39;49membedding(weight, \u001b[39minput\u001b[39;49m, padding_idx, scale_grad_by_freq, sparse)\n",
      "\u001b[0;31mRuntimeError\u001b[0m: Expected all tensors to be on the same device, but found at least two devices, cpu and cuda:0! (when checking argument for argument index in method wrapper__index_select)"
     ]
    }
   ],
   "source": [
    "# for each encoding layer, \n",
    "# 1. calculate the cooc statistics from the prev corpus\n",
    "# 2. define the symbolic attention\n",
    "# 3. re-write the corpus into context-aware symbols\n",
    "vocab_in = list(set(data.tolist()))\n",
    "vocab_size_initial = len(vocab_in)\n",
    "print(\"Input vocabulary size: {}\".format(len(vocab_in)))\n",
    "data_in = train_data.to(device)\n",
    "data_val_in = val_data.to(device)\n",
    "# for f in intermediate_vocab_size_f:\n",
    "for it,f in enumerate(intermediate_vocab_size_f):\n",
    "    ## Preprocessing\n",
    "    # Co-occurence matrix calculation\n",
    "    if it>0: # skip the initial statistic, only calculate and save the intermediate ones\n",
    "        cooc = calculate_cooc(data_in, len(vocab_in), n_head, device=device)\n",
    "        for h in range(n_head):\n",
    "            plt.imshow(cooc[:,:,h].cpu().numpy())\n",
    "            plt.savefig('{}/{}-cooc_{}.png'.format(outdir, h+1, f))\n",
    "    elif os.path.exists('./data/cooc_{}.pth'.format(n_head)):\n",
    "        cooc = torch.load('./data/cooc_{}.pth'.format(n_head)).to(device)\n",
    "    else:\n",
    "        cooc = calculate_cooc(data_in, len(vocab_in), n_head, device=device)\n",
    "        torch.save(cooc.cpu(), './data/cooc_{}.pth'.format(n_head))\n",
    "    ## Encode corpus\n",
    "    # define the symbolic encoder\n",
    "    vocab_out_size = min(int(f*vocab_size_initial), max_vocab_size)\n",
    "    symbolic_encoder = SymLMEncoder(vocab_out_size, device, cooc, self_loops=self_loops)\n",
    "    # context-aware representation\n",
    "    data_enc_rep, _ = symbolic_encoder(torch.stack([data_in[i:i+block_size] for i in range(len(data_in) - block_size)]))\n",
    "    data_val_enc_rep, _ = symbolic_encoder(torch.stack([data_val_in[i:i+block_size] for i in range(len(data_val_in) - block_size)]))\n",
    "    print(\"Intermediate representation size {}: {}\".format(it+1, data_enc_rep.shape[1]))\n",
    "    # clustering\n",
    "    data_enc_rep = data_enc_rep.numpy()\n",
    "    data_val_enc_rep = data_val_enc_rep.numpy()\n",
    "    n_seed = min(int(f_seed*len(data_enc_rep)), len(data_enc_rep))\n",
    "    seed_idx = sample(list(range(len(data_enc_rep))), n_seed)\n",
    "    data_enc_rep_seed = data_enc_rep[seed_idx]\n",
    "    # encoding\n",
    "    kmeans = KMeans(n_clusters=vocab_out_size).fit(data_enc_rep_seed)\n",
    "    data_enc = kmeans.predict(data_enc_rep)\n",
    "    data_val_enc = kmeans.predict(data_val_enc_rep)\n",
    "    print(\"Intermediate vocabulary size {}: {}\".format(it+1, vocab_out_size))\n",
    "    ## Reset\n",
    "    vocab_in = list(range(vocab_out_size))\n",
    "    data_in = torch.tensor(data_enc, dtype=torch.long).to(device)\n",
    "    data_val_in = torch.tensor(data_val_enc, dtype=torch.long).to(device)\n",
    "\n",
    "vocab_size = len(vocab_in)\n",
    "train_data_enc = data_in\n",
    "val_data_enc = data_val_in\n",
    "offset = block_size*len(intermediate_vocab_size_f)"
   ]
  },
  {
   "cell_type": "code",
   "execution_count": null,
   "metadata": {
    "execution": {
     "iopub.execute_input": "2023-09-15T18:00:24.210708Z",
     "iopub.status.busy": "2023-09-15T18:00:24.210343Z",
     "iopub.status.idle": "2023-09-15T18:00:24.289189Z",
     "shell.execute_reply": "2023-09-15T18:00:24.288358Z"
    }
   },
   "outputs": [],
   "source": [
    "data_dict = {'train': (train_data_enc, train_data[offset:]), 'val': (val_data_enc, val_data[offset:])}\n",
    "assert len(train_data_enc)==len(train_data[offset:])\n",
    "assert len(val_data_enc)==len(val_data[offset:])\n",
    "\n",
    "\n",
    "text_encoded = decode(train_data_enc.tolist())\n",
    "with open('{}/latent_input.txt'.format(outdir), 'w') as f:\n",
    "    f.write(''.join(text_encoded))"
   ]
  },
  {
   "cell_type": "markdown",
   "metadata": {},
   "source": [
    "###  Re-write Analysis"
   ]
  },
  {
   "cell_type": "code",
   "execution_count": null,
   "metadata": {},
   "outputs": [],
   "source": [
    "# # preprocessing: Co-occurence matrix calculation\n",
    "# cooc = calculate_cooc(data_dict['train'][0], vocab_size, n_head, device=device) \n",
    "# # save the cooc statistics\n",
    "# for h in range(n_head):\n",
    "#     plt.imshow(cooc[:,:,h].cpu().numpy())\n",
    "#     plt.savefig('{}/{}-cooc_{}.png'.format(outdir, h+1, intermediate_vocab_size_f[-1]))"
   ]
  },
  {
   "cell_type": "code",
   "execution_count": null,
   "metadata": {},
   "outputs": [],
   "source": []
  },
  {
   "cell_type": "markdown",
   "metadata": {},
   "source": [
    "### Decoding phase"
   ]
  },
  {
   "cell_type": "markdown",
   "metadata": {},
   "source": [
    "#### Training"
   ]
  },
  {
   "cell_type": "code",
   "execution_count": null,
   "metadata": {
    "execution": {
     "iopub.execute_input": "2023-09-15T18:00:24.295460Z",
     "iopub.status.busy": "2023-09-15T18:00:24.295267Z",
     "iopub.status.idle": "2023-09-15T18:00:24.298719Z",
     "shell.execute_reply": "2023-09-15T18:00:24.298219Z"
    }
   },
   "outputs": [],
   "source": [
    "model_types = ['symbolic'] #, 'original', 'baseline']"
   ]
  },
  {
   "cell_type": "code",
   "execution_count": null,
   "metadata": {
    "execution": {
     "iopub.execute_input": "2023-09-15T18:00:24.304777Z",
     "iopub.status.busy": "2023-09-15T18:00:24.304522Z",
     "iopub.status.idle": "2023-09-15T18:13:17.833701Z",
     "shell.execute_reply": "2023-09-15T18:13:17.832882Z"
    }
   },
   "outputs": [
    {
     "name": "stdout",
     "output_type": "stream",
     "text": [
      "From SymbolicMultiHeadAttention: N 58, K 6, hs 348, embedding_dim 128\n",
      "======>\n",
      "Model type:  symbolic\n",
      "0.525751 M parameters\n",
      "Model:  SymGPTLanguageModel(\n",
      "  (blocks): Sequential(\n",
      "    (0): SymbolicBlock(\n",
      "      (sa): SymbolicMultiHeadAttention(\n",
      "        (heads): ModuleList(\n",
      "          (0): SymbolicAttentionHead(\n",
      "            (value): Embedding(58, 348)\n",
      "          )\n",
      "          (1): SymbolicAttentionHead(\n",
      "            (value): Embedding(58, 348)\n",
      "          )\n",
      "          (2): SymbolicAttentionHead(\n",
      "            (value): Embedding(58, 348)\n",
      "          )\n",
      "          (3): SymbolicAttentionHead(\n",
      "            (value): Embedding(58, 348)\n",
      "          )\n",
      "          (4): SymbolicAttentionHead(\n",
      "            (value): Embedding(58, 348)\n",
      "          )\n",
      "          (5): SymbolicAttentionHead(\n",
      "            (value): Embedding(58, 348)\n",
      "          )\n",
      "        )\n",
      "        (proj): Linear(in_features=2088, out_features=128, bias=True)\n",
      "        (dropout): Dropout(p=0.2, inplace=False)\n",
      "      )\n",
      "      (ffwd): FeedFoward(\n",
      "        (net): Sequential(\n",
      "          (0): Linear(in_features=128, out_features=512, bias=True)\n",
      "          (1): ReLU()\n",
      "          (2): Linear(in_features=512, out_features=128, bias=True)\n",
      "          (3): Dropout(p=0.2, inplace=False)\n",
      "        )\n",
      "      )\n",
      "      (ln): LayerNorm((128,), eps=1e-05, elementwise_affine=True)\n",
      "    )\n",
      "  )\n",
      "  (ln_f): LayerNorm((128,), eps=1e-05, elementwise_affine=True)\n",
      "  (lm_head): Linear(in_features=128, out_features=39, bias=True)\n",
      ")\n",
      "step 0: train loss 3.6776, val loss 3.6793\n",
      "step 50: train loss 3.0297, val loss 3.0343\n",
      "step 100: train loss 2.9388, val loss 2.9365\n",
      "step 150: train loss 2.8936, val loss 2.8910\n",
      "step 200: train loss 2.8618, val loss 2.8656\n",
      "step 250: train loss 2.8585, val loss 2.8571\n",
      "step 300: train loss 2.8478, val loss 2.8468\n",
      "step 350: train loss 2.8308, val loss 2.8406\n",
      "step 400: train loss 2.8190, val loss 2.8319\n",
      "step 450: train loss 2.8337, val loss 2.8346\n",
      "step 500: train loss 2.8117, val loss 2.8239\n",
      "step 550: train loss 2.8093, val loss 2.8242\n",
      "step 600: train loss 2.7951, val loss 2.8125\n",
      "step 650: train loss 2.7982, val loss 2.8092\n",
      "step 700: train loss 2.8027, val loss 2.8156\n",
      "step 750: train loss 2.7870, val loss 2.8011\n",
      "step 800: train loss 2.7964, val loss 2.8057\n",
      "step 850: train loss 2.7867, val loss 2.7996\n",
      "step 900: train loss 2.7860, val loss 2.8084\n",
      "step 950: train loss 2.7973, val loss 2.8183\n",
      "step 1000: train loss 2.7844, val loss 2.7938\n",
      "step 1050: train loss 2.7763, val loss 2.7926\n",
      "step 1100: train loss 2.7781, val loss 2.8028\n",
      "step 1150: train loss 2.7882, val loss 2.7977\n",
      "step 1200: train loss 2.7914, val loss 2.7910\n",
      "step 1250: train loss 2.7806, val loss 2.7866\n",
      "step 1300: train loss 2.7860, val loss 2.8032\n",
      "step 1350: train loss 2.7746, val loss 2.7968\n",
      "step 1400: train loss 2.7824, val loss 2.7969\n",
      "step 1450: train loss 2.7735, val loss 2.7852\n",
      "step 1500: train loss 2.7732, val loss 2.7950\n",
      "step 1550: train loss 2.7740, val loss 2.7833\n",
      "step 1600: train loss 2.7746, val loss 2.7911\n",
      "step 1650: train loss 2.7666, val loss 2.7912\n",
      "step 1700: train loss 2.7721, val loss 2.7895\n",
      "step 1750: train loss 2.7707, val loss 2.7968\n",
      "step 1800: train loss 2.7704, val loss 2.7819\n",
      "step 1850: train loss 2.7705, val loss 2.7881\n",
      "step 1900: train loss 2.7612, val loss 2.7752\n",
      "step 1950: train loss 2.7653, val loss 2.7825\n",
      "step 1999: train loss 2.7675, val loss 2.7789\n"
     ]
    },
    {
     "data": {
      "image/png": "[encoded data removed]",
      "text/plain": [
       "<Figure size 432x288 with 1 Axes>"
      ]
     },
     "metadata": {
      "needs_background": "light"
     },
     "output_type": "display_data"
    }
   ],
   "source": [
    "for model_type in model_types:\n",
    "    if model_type=='symbolic':\n",
    "        # preprocessing: Co-occurence matrix calculation\n",
    "        cooc = calculate_cooc(data_dict['train'][0], vocab_size, n_head, device=device) \n",
    "        # save the cooc statistics\n",
    "        torch.save(cooc.cpu(), '{}/cooc_{}.pth'.format(outdir, intermediate_vocab_size_f[-1]))\n",
    "        for h in range(n_head):\n",
    "            plt.imshow(cooc[:,:,h].cpu().numpy())\n",
    "            plt.savefig('{}/{}-cooc_{}.png'.format(outdir, h+1, intermediate_vocab_size_f[-1]))\n",
    "        model = SymGPTLanguageModel(target_vocab_size, n_embd, n_head, n_layer, block_size, dropout, device, cooc)  \n",
    "    elif model_type=='original':\n",
    "        model = GPTLanguageModel(target_vocab_size, n_embd, n_head, n_layer, block_size, dropout, device)\n",
    "    elif model_type=='baseline':\n",
    "        model = FeedForwardSeqModel(target_vocab_size, n_embd, n_head, n_layer, block_size, dropout, device)\n",
    "    else:\n",
    "        assert False, \"Undefined model type.\"\n",
    "    model = model.to(device)\n",
    "    print('======>\\nModel type: ', model_type)\n",
    "    # print the number of parameters in the model\n",
    "    print(sum(p.numel() for p in model.parameters())/1e6, 'M parameters')\n",
    "    # print model summary\n",
    "    print('Model: ', model)\n",
    "\n",
    "    # create a PyTorch optimizer\n",
    "    optimizer = torch.optim.AdamW(model.parameters(), lr=learning_rate)\n",
    "\n",
    "    # bookkeeping\n",
    "    losses_log = dict({'iter': [], 'train': [], 'val': []})\n",
    "\n",
    "    for iter in range(max_iters):\n",
    "\n",
    "        # every once in a while evaluate the loss on train and val sets\n",
    "        if iter % eval_interval == 0 or iter == max_iters - 1:\n",
    "            losses = estimate_loss_(model, data_dict, eval_iters, block_size, batch_size, device=device)\n",
    "            print(f\"step {iter}: train loss {losses['train']:.4f}, val loss {losses['val']:.4f}\")\n",
    "            losses_log['train'].append(losses['train'].item())\n",
    "            losses_log['val'].append(losses['val'].item())\n",
    "            losses_log['iter'].append(iter)\n",
    "\n",
    "        # sample a batch of data\n",
    "        xb, yb = get_batch_(data_dict, 'train', block_size, batch_size, device)\n",
    "\n",
    "        # evaluate the loss\n",
    "        logits, loss = model(xb, yb)\n",
    "        optimizer.zero_grad(set_to_none=True)\n",
    "        loss.backward()\n",
    "        optimizer.step()\n",
    "\n",
    "    # save losses\n",
    "    with open('{}/losses_{}.json'.format(outdir, model_type), 'w') as fp:\n",
    "        json.dump(losses_log, fp)\n",
    "\n",
    "    # save model\n",
    "    torch.save(model.state_dict(), '{}/gpt_{}.pth'.format(outdir, model_type))"
   ]
  }
 ],
 "metadata": {
  "kernelspec": {
   "display_name": "Python 3.9.13 ('neuro')",
   "language": "python",
   "name": "python3"
  },
  "language_info": {
   "codemirror_mode": {
    "name": "ipython",
    "version": 3
   },
   "file_extension": ".py",
   "mimetype": "text/x-python",
   "name": "python",
   "nbconvert_exporter": "python",
   "pygments_lexer": "ipython3",
   "version": "3.9.13"
  },
  "vscode": {
   "interpreter": {
    "hash": "45a9a558b30b86d9f732c54dbfd32f3dc135cf8debc1699b6136107345de1818"
   }
  }
 },
 "nbformat": 4,
 "nbformat_minor": 2
}
