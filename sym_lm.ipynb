{
 "cells": [
  {
   "cell_type": "code",
   "execution_count": 1,
   "metadata": {
    "execution": {
     "iopub.execute_input": "2023-09-07T06:23:52.152506Z",
     "iopub.status.busy": "2023-09-07T06:23:52.151774Z",
     "iopub.status.idle": "2023-09-07T06:23:53.318709Z",
     "shell.execute_reply": "2023-09-07T06:23:53.317688Z"
    }
   },
   "outputs": [],
   "source": [
    "import torch\n",
    "import torch.nn as nn\n",
    "from torch.nn import functional as F\n",
    "\n",
    "torch.manual_seed(1337)\n",
    "\n",
    "import json\n",
    "import numpy as np\n",
    "import matplotlib.pyplot as plt\n",
    "%matplotlib inline\n",
    "\n",
    "from models import GPTLanguageModel, SymGPTLanguageModel\n",
    "from utils import get_batch, calculate_cooc"
   ]
  },
  {
   "cell_type": "code",
   "execution_count": 2,
   "metadata": {
    "execution": {
     "iopub.execute_input": "2023-09-07T06:23:53.324747Z",
     "iopub.status.busy": "2023-09-07T06:23:53.324512Z",
     "iopub.status.idle": "2023-09-07T06:23:53.339983Z",
     "shell.execute_reply": "2023-09-07T06:23:53.339200Z"
    }
   },
   "outputs": [],
   "source": [
    "# hyperparameters\n",
    "batch_size = 64     # how many independent sequences will we process in parallel?\n",
    "block_size = 32     # 256    # what is the maximum context length for predictions?\n",
    "max_iters = 2000    # 5000\n",
    "eval_interval = 50\n",
    "learning_rate = 3e-4\n",
    "device = 'cuda' if torch.cuda.is_available() else 'cpu'\n",
    "eval_iters = 200\n",
    "n_embd = 128 # 384\n",
    "n_head = 6  # 6\n",
    "n_layer = 1 # 6\n",
    "dropout = 0.2\n",
    "# ------------"
   ]
  },
  {
   "cell_type": "code",
   "execution_count": 3,
   "metadata": {
    "execution": {
     "iopub.execute_input": "2023-09-07T06:23:53.344801Z",
     "iopub.status.busy": "2023-09-07T06:23:53.344560Z",
     "iopub.status.idle": "2023-09-07T06:23:53.349559Z",
     "shell.execute_reply": "2023-09-07T06:23:53.348758Z"
    }
   },
   "outputs": [],
   "source": [
    "# wget https://raw.githubusercontent.com/karpathy/char-rnn/master/data/tinyshakespeare/input.txt\n",
    "with open('./data/input.txt', 'r', encoding='utf-8') as f:\n",
    "    text = f.read()"
   ]
  },
  {
   "cell_type": "code",
   "execution_count": 4,
   "metadata": {
    "execution": {
     "iopub.execute_input": "2023-09-07T06:23:53.354404Z",
     "iopub.status.busy": "2023-09-07T06:23:53.354125Z",
     "iopub.status.idle": "2023-09-07T06:23:53.442070Z",
     "shell.execute_reply": "2023-09-07T06:23:53.441224Z"
    }
   },
   "outputs": [],
   "source": [
    "# here are all the unique characters that occur in this text\n",
    "chars = sorted(list(set(text)))\n",
    "vocab_size = len(chars)\n",
    "# create a mapping from characters to integers\n",
    "stoi = { ch:i for i,ch in enumerate(chars) }\n",
    "itos = { i:ch for i,ch in enumerate(chars) }\n",
    "encode = lambda s: [stoi[c] for c in s] # encoder: take a string, output a list of integers\n",
    "decode = lambda l: ''.join([itos[i] for i in l]) # decoder: take a list of integers, output a string\n",
    "\n",
    "# Train and test splits\n",
    "data = torch.tensor(encode(text), dtype=torch.long)\n",
    "n = int(0.9*len(data)) # first 90% will be train, rest val\n",
    "train_data = data[:n]\n",
    "val_data = data[n:]\n",
    "data_dict = {'train': train_data, 'val': val_data}\n",
    "\n",
    "@torch.no_grad()\n",
    "def estimate_loss(model):\n",
    "    out = {}\n",
    "    model.eval()\n",
    "    for split in ['train', 'val']:\n",
    "        losses = torch.zeros(eval_iters)\n",
    "        for k in range(eval_iters):\n",
    "            X, Y = get_batch(data_dict, split, block_size, batch_size, device)\n",
    "            logits, loss = model(X, Y)\n",
    "            losses[k] = loss.item()\n",
    "        out[split] = losses.mean()\n",
    "    model.train()\n",
    "    return out"
   ]
  },
  {
   "cell_type": "markdown",
   "metadata": {},
   "source": [
    "### Symbolic Attention Transformer"
   ]
  },
  {
   "cell_type": "code",
   "execution_count": 5,
   "metadata": {
    "execution": {
     "iopub.execute_input": "2023-09-07T06:23:53.448330Z",
     "iopub.status.busy": "2023-09-07T06:23:53.448150Z",
     "iopub.status.idle": "2023-09-07T06:25:38.886468Z",
     "shell.execute_reply": "2023-09-07T06:25:38.885423Z"
    }
   },
   "outputs": [
    {
     "data": {
      "image/png": "[encoded data removed]",
      "text/plain": [
       "<Figure size 432x288 with 1 Axes>"
      ]
     },
     "metadata": {
      "needs_background": "light"
     },
     "output_type": "display_data"
    }
   ],
   "source": [
    "cooc = calculate_cooc(data_dict['train'], vocab_size, n_head, device=device)\n",
    "for h in range(n_head):\n",
    "    # print(\"{}-cooc:\\n{}\\n\".format(h+1, cooc[:,:,h]))\n",
    "    plt.imshow(cooc[:,:,h].cpu().numpy())\n",
    "    plt.savefig('./figs/{}-cooc.png'.format(h+1))"
   ]
  },
  {
   "cell_type": "code",
   "execution_count": 6,
   "metadata": {
    "execution": {
     "iopub.execute_input": "2023-09-07T06:25:38.944092Z",
     "iopub.status.busy": "2023-09-07T06:25:38.943718Z",
     "iopub.status.idle": "2023-09-07T06:42:05.300106Z",
     "shell.execute_reply": "2023-09-07T06:42:05.299280Z"
    }
   },
   "outputs": [
    {
     "name": "stdout",
     "output_type": "stream",
     "text": [
      "From SymbolicMultiHeadAttention: N 65, K 6, hs 390, embedding_dim 128\n",
      "0.592357 M parameters\n",
      "Model:  SymGPTLanguageModel(\n",
      "  (blocks): Sequential(\n",
      "    (0): SymbolicBlock(\n",
      "      (sa): SymbolicMultiHeadAttention(\n",
      "        (heads): ModuleList(\n",
      "          (0): SymbolicAttentionHead(\n",
      "            (value): Embedding(65, 390)\n",
      "          )\n",
      "          (1): SymbolicAttentionHead(\n",
      "            (value): Embedding(65, 390)\n",
      "          )\n",
      "          (2): SymbolicAttentionHead(\n",
      "            (value): Embedding(65, 390)\n",
      "          )\n",
      "          (3): SymbolicAttentionHead(\n",
      "            (value): Embedding(65, 390)\n",
      "          )\n",
      "          (4): SymbolicAttentionHead(\n",
      "            (value): Embedding(65, 390)\n",
      "          )\n",
      "          (5): SymbolicAttentionHead(\n",
      "            (value): Embedding(65, 390)\n",
      "          )\n",
      "        )\n",
      "        (proj): Linear(in_features=2340, out_features=128, bias=True)\n",
      "        (dropout): Dropout(p=0.2, inplace=False)\n",
      "      )\n",
      "      (ffwd): FeedFoward(\n",
      "        (net): Sequential(\n",
      "          (0): Linear(in_features=128, out_features=512, bias=True)\n",
      "          (1): ReLU()\n",
      "          (2): Linear(in_features=512, out_features=128, bias=True)\n",
      "          (3): Dropout(p=0.2, inplace=False)\n",
      "        )\n",
      "      )\n",
      "      (ln): LayerNorm((128,), eps=1e-05, elementwise_affine=True)\n",
      "    )\n",
      "  )\n",
      "  (ln_f): LayerNorm((128,), eps=1e-05, elementwise_affine=True)\n",
      "  (lm_head): Linear(in_features=128, out_features=65, bias=True)\n",
      ")\n",
      "step 0: train loss 4.1154, val loss 4.1157\n",
      "step 50: train loss 3.1189, val loss 3.1437\n",
      "step 100: train loss 2.8477, val loss 2.8624\n",
      "step 150: train loss 2.7396, val loss 2.7386\n",
      "step 200: train loss 2.6996, val loss 2.7008\n",
      "step 250: train loss 2.6586, val loss 2.6576\n",
      "step 300: train loss 2.6458, val loss 2.6490\n",
      "step 350: train loss 2.6386, val loss 2.6473\n",
      "step 400: train loss 2.6216, val loss 2.6246\n",
      "step 450: train loss 2.6158, val loss 2.6276\n",
      "step 500: train loss 2.6133, val loss 2.6177\n",
      "step 550: train loss 2.6091, val loss 2.6163\n",
      "step 600: train loss 2.6149, val loss 2.6278\n",
      "step 650: train loss 2.6016, val loss 2.6110\n",
      "step 700: train loss 2.6081, val loss 2.6189\n",
      "step 750: train loss 2.6029, val loss 2.6106\n",
      "step 800: train loss 2.5929, val loss 2.6093\n",
      "step 850: train loss 2.6062, val loss 2.6228\n",
      "step 900: train loss 2.5821, val loss 2.5956\n",
      "step 950: train loss 2.5806, val loss 2.5983\n",
      "step 1000: train loss 2.5809, val loss 2.5963\n",
      "step 1050: train loss 2.5775, val loss 2.5962\n",
      "step 1100: train loss 2.5819, val loss 2.6043\n",
      "step 1150: train loss 2.5754, val loss 2.5913\n",
      "step 1200: train loss 2.5771, val loss 2.6014\n",
      "step 1250: train loss 2.5692, val loss 2.5868\n",
      "step 1300: train loss 2.5683, val loss 2.5921\n",
      "step 1350: train loss 2.5656, val loss 2.5900\n",
      "step 1400: train loss 2.5748, val loss 2.5889\n",
      "step 1450: train loss 2.5610, val loss 2.5800\n",
      "step 1500: train loss 2.5570, val loss 2.5780\n",
      "step 1550: train loss 2.5635, val loss 2.5820\n",
      "step 1600: train loss 2.5629, val loss 2.5895\n",
      "step 1650: train loss 2.5591, val loss 2.5788\n",
      "step 1700: train loss 2.5708, val loss 2.5935\n",
      "step 1750: train loss 2.5606, val loss 2.5801\n",
      "step 1800: train loss 2.5594, val loss 2.5790\n",
      "step 1850: train loss 2.5690, val loss 2.5858\n",
      "step 1900: train loss 2.5605, val loss 2.5842\n",
      "step 1950: train loss 2.5621, val loss 2.5921\n",
      "step 1999: train loss 2.5597, val loss 2.5770\n"
     ]
    }
   ],
   "source": [
    "model = SymGPTLanguageModel(vocab_size, n_embd, n_head, n_layer, block_size, dropout, device, cooc)  \n",
    "model = model.to(device)\n",
    "# print the number of parameters in the model\n",
    "print(sum(p.numel() for p in model.parameters())/1e6, 'M parameters')\n",
    "# print model summary\n",
    "print('Model: ', model)\n",
    "\n",
    "# create a PyTorch optimizer\n",
    "optimizer = torch.optim.AdamW(model.parameters(), lr=learning_rate)\n",
    "\n",
    "# bookkeeping\n",
    "losses_log = dict({'iter': [], 'train': [], 'val': []})\n",
    "\n",
    "for iter in range(max_iters):\n",
    "\n",
    "    # every once in a while evaluate the loss on train and val sets\n",
    "    if iter % eval_interval == 0 or iter == max_iters - 1:\n",
    "        losses = estimate_loss(model)\n",
    "        print(f\"step {iter}: train loss {losses['train']:.4f}, val loss {losses['val']:.4f}\")\n",
    "        losses_log['train'].append(losses['train'].item())\n",
    "        losses_log['val'].append(losses['val'].item())\n",
    "        losses_log['iter'].append(iter)\n",
    "\n",
    "    # sample a batch of data\n",
    "    xb, yb = get_batch(data_dict, 'train', block_size, batch_size, device)\n",
    "\n",
    "    # evaluate the loss\n",
    "    logits, loss = model(xb, yb)\n",
    "    optimizer.zero_grad(set_to_none=True)\n",
    "    loss.backward()\n",
    "    optimizer.step()\n",
    "\n",
    "# save losses\n",
    "with open('./data/losses_symbolic.json', 'w') as fp:\n",
    "    json.dump(losses_log, fp)\n",
    "\n",
    "# save model\n",
    "torch.save(model.state_dict(), './data/gpt_symbolic.pth')\n",
    "\n",
    "# # generate from the model\n",
    "# context = torch.zeros((1), dtype=torch.long, device=device)\n",
    "# # print(decode(model.generate(context, max_new_tokens=500)[0].tolist()))\n",
    "# open('./data/gen_symbolic.txt', 'w').write(decode(model.generate(context, max_new_tokens=10000)[0].tolist()))"
   ]
  },
  {
   "cell_type": "code",
   "execution_count": 7,
   "metadata": {
    "execution": {
     "iopub.execute_input": "2023-09-07T06:42:05.306966Z",
     "iopub.status.busy": "2023-09-07T06:42:05.306759Z",
     "iopub.status.idle": "2023-09-07T06:42:05.310920Z",
     "shell.execute_reply": "2023-09-07T06:42:05.310211Z"
    }
   },
   "outputs": [],
   "source": [
    "# # Test Example\n",
    "\n",
    "# block_size_t = 4\n",
    "# device_t = 'cuda' if torch.cuda.is_available() else 'cpu'\n",
    "# n_embd_t = 12\n",
    "# n_head_t = 3\n",
    "# n_layer_t = 1\n",
    "# dropout_t = 0.2\n",
    "\n",
    "# text = [0,2,3,1,1,4,2,3,1]\n",
    "# data = torch.tensor(text, dtype=torch.long)\n",
    "# vocab_size_t = len(list(set(text)))\n",
    "# cooc = calculate_cooc(text, vocab_size_t, n_head_t, device=device_t)\n",
    "# # for h in range(n_head_t):\n",
    "# #     print(\"{}-cooc:\\n{}\\n\".format(h+1, cooc[:,:,h]))\n",
    "\n",
    "# # sample a batch of data\n",
    "# batches_anchor = [0, 1]\n",
    "# x = torch.stack([data[i:i+block_size_t] for i in batches_anchor])\n",
    "# y = torch.stack([data[i+1:i+block_size_t+1] for i in batches_anchor])\n",
    "# x, y = x.to(device_t), y.to(device_t)"
   ]
  },
  {
   "cell_type": "markdown",
   "metadata": {},
   "source": [
    "### Original Transformer"
   ]
  },
  {
   "cell_type": "code",
   "execution_count": 8,
   "metadata": {
    "execution": {
     "iopub.execute_input": "2023-09-07T06:42:05.316529Z",
     "iopub.status.busy": "2023-09-07T06:42:05.316348Z",
     "iopub.status.idle": "2023-09-07T06:43:49.714488Z",
     "shell.execute_reply": "2023-09-07T06:43:49.713531Z"
    }
   },
   "outputs": [
    {
     "name": "stdout",
     "output_type": "stream",
     "text": [
      "0.217921 M parameters\n",
      "Model:  GPTLanguageModel(\n",
      "  (token_embedding_table): Embedding(65, 128)\n",
      "  (position_embedding_table): Embedding(32, 128)\n",
      "  (blocks): Sequential(\n",
      "    (0): Block(\n",
      "      (sa): MultiHeadAttention(\n",
      "        (heads): ModuleList(\n",
      "          (0): Head(\n",
      "            (key): Linear(in_features=128, out_features=21, bias=False)\n",
      "            (query): Linear(in_features=128, out_features=21, bias=False)\n",
      "            (value): Linear(in_features=128, out_features=21, bias=False)\n",
      "            (dropout): Dropout(p=0.2, inplace=False)\n",
      "          )\n",
      "          (1): Head(\n",
      "            (key): Linear(in_features=128, out_features=21, bias=False)\n",
      "            (query): Linear(in_features=128, out_features=21, bias=False)\n",
      "            (value): Linear(in_features=128, out_features=21, bias=False)\n",
      "            (dropout): Dropout(p=0.2, inplace=False)\n",
      "          )\n",
      "          (2): Head(\n",
      "            (key): Linear(in_features=128, out_features=21, bias=False)\n",
      "            (query): Linear(in_features=128, out_features=21, bias=False)\n",
      "            (value): Linear(in_features=128, out_features=21, bias=False)\n",
      "            (dropout): Dropout(p=0.2, inplace=False)\n",
      "          )\n",
      "          (3): Head(\n",
      "            (key): Linear(in_features=128, out_features=21, bias=False)\n",
      "            (query): Linear(in_features=128, out_features=21, bias=False)\n",
      "            (value): Linear(in_features=128, out_features=21, bias=False)\n",
      "            (dropout): Dropout(p=0.2, inplace=False)\n",
      "          )\n",
      "          (4): Head(\n",
      "            (key): Linear(in_features=128, out_features=21, bias=False)\n",
      "            (query): Linear(in_features=128, out_features=21, bias=False)\n",
      "            (value): Linear(in_features=128, out_features=21, bias=False)\n",
      "            (dropout): Dropout(p=0.2, inplace=False)\n",
      "          )\n",
      "          (5): Head(\n",
      "            (key): Linear(in_features=128, out_features=21, bias=False)\n",
      "            (query): Linear(in_features=128, out_features=21, bias=False)\n",
      "            (value): Linear(in_features=128, out_features=21, bias=False)\n",
      "            (dropout): Dropout(p=0.2, inplace=False)\n",
      "          )\n",
      "        )\n",
      "        (proj): Linear(in_features=126, out_features=128, bias=True)\n",
      "        (dropout): Dropout(p=0.2, inplace=False)\n",
      "      )\n",
      "      (ffwd): FeedFoward(\n",
      "        (net): Sequential(\n",
      "          (0): Linear(in_features=128, out_features=512, bias=True)\n",
      "          (1): ReLU()\n",
      "          (2): Linear(in_features=512, out_features=128, bias=True)\n",
      "          (3): Dropout(p=0.2, inplace=False)\n",
      "        )\n",
      "      )\n",
      "      (ln1): LayerNorm((128,), eps=1e-05, elementwise_affine=True)\n",
      "      (ln2): LayerNorm((128,), eps=1e-05, elementwise_affine=True)\n",
      "    )\n",
      "  )\n",
      "  (ln_f): LayerNorm((128,), eps=1e-05, elementwise_affine=True)\n",
      "  (lm_head): Linear(in_features=128, out_features=65, bias=True)\n",
      ")\n",
      "step 0: train loss 4.2001, val loss 4.2039\n",
      "step 50: train loss 2.8522, val loss 2.8747\n",
      "step 100: train loss 2.6083, val loss 2.6089\n",
      "step 150: train loss 2.5069, val loss 2.5136\n",
      "step 200: train loss 2.4358, val loss 2.4505\n",
      "step 250: train loss 2.3652, val loss 2.3663\n",
      "step 300: train loss 2.2719, val loss 2.2824\n",
      "step 350: train loss 2.2071, val loss 2.2213\n",
      "step 400: train loss 2.1603, val loss 2.1844\n",
      "step 450: train loss 2.1181, val loss 2.1475\n",
      "step 500: train loss 2.0748, val loss 2.1162\n",
      "step 550: train loss 2.0397, val loss 2.0920\n",
      "step 600: train loss 2.0150, val loss 2.0713\n",
      "step 650: train loss 1.9897, val loss 2.0581\n",
      "step 700: train loss 1.9717, val loss 2.0501\n",
      "step 750: train loss 1.9511, val loss 2.0256\n",
      "step 800: train loss 1.9291, val loss 2.0109\n",
      "step 850: train loss 1.9180, val loss 2.0033\n",
      "step 900: train loss 1.9096, val loss 2.0031\n",
      "step 950: train loss 1.8873, val loss 1.9895\n",
      "step 1000: train loss 1.8753, val loss 1.9841\n",
      "step 1050: train loss 1.8655, val loss 1.9832\n",
      "step 1100: train loss 1.8519, val loss 1.9751\n",
      "step 1150: train loss 1.8446, val loss 1.9673\n",
      "step 1200: train loss 1.8340, val loss 1.9520\n",
      "step 1250: train loss 1.8284, val loss 1.9532\n",
      "step 1300: train loss 1.8159, val loss 1.9412\n",
      "step 1350: train loss 1.8120, val loss 1.9428\n",
      "step 1400: train loss 1.8088, val loss 1.9394\n",
      "step 1450: train loss 1.7975, val loss 1.9222\n",
      "step 1500: train loss 1.7876, val loss 1.9341\n",
      "step 1550: train loss 1.7782, val loss 1.9214\n",
      "step 1600: train loss 1.7765, val loss 1.9159\n",
      "step 1650: train loss 1.7778, val loss 1.9229\n",
      "step 1700: train loss 1.7664, val loss 1.9192\n",
      "step 1750: train loss 1.7608, val loss 1.9216\n",
      "step 1800: train loss 1.7579, val loss 1.9105\n",
      "step 1850: train loss 1.7548, val loss 1.9226\n",
      "step 1900: train loss 1.7507, val loss 1.9018\n",
      "step 1950: train loss 1.7437, val loss 1.8986\n",
      "step 1999: train loss 1.7365, val loss 1.9007\n"
     ]
    }
   ],
   "source": [
    "model = GPTLanguageModel(vocab_size, n_embd, n_head, n_layer, block_size, dropout, device)\n",
    "model = model.to(device)\n",
    "# print the number of parameters in the model\n",
    "print(sum(p.numel() for p in model.parameters())/1e6, 'M parameters')\n",
    "# print model summary\n",
    "print('Model: ', model)\n",
    "\n",
    "# create a PyTorch optimizer\n",
    "optimizer = torch.optim.AdamW(model.parameters(), lr=learning_rate)\n",
    "\n",
    "# bookkeeping\n",
    "losses_log = dict({'iter': [], 'train': [], 'val': []})\n",
    "\n",
    "for iter in range(max_iters):\n",
    "\n",
    "    # every once in a while evaluate the loss on train and val sets\n",
    "    if iter % eval_interval == 0 or iter == max_iters - 1:\n",
    "        losses = estimate_loss(model)\n",
    "        print(f\"step {iter}: train loss {losses['train']:.4f}, val loss {losses['val']:.4f}\")\n",
    "        losses_log['train'].append(losses['train'].item())\n",
    "        losses_log['val'].append(losses['val'].item())\n",
    "        losses_log['iter'].append(iter)\n",
    "\n",
    "    # sample a batch of data\n",
    "    xb, yb = get_batch(data_dict, 'train', block_size, batch_size, device)\n",
    "\n",
    "    # evaluate the loss\n",
    "    logits, loss = model(xb, yb)\n",
    "    optimizer.zero_grad(set_to_none=True)\n",
    "    loss.backward()\n",
    "    optimizer.step()\n",
    "\n",
    "# save losses\n",
    "with open('./data/losses_original.json', 'w') as fp:\n",
    "    json.dump(losses_log, fp)\n",
    "\n",
    "# save model\n",
    "torch.save(model.state_dict(), './data/gpt_original.pth')\n",
    "\n",
    "# generate from the model\n",
    "# context = torch.zeros((1, 1), dtype=torch.long, device=device)\n",
    "# print(decode(model.generate(context, max_new_tokens=500)[0].tolist()))\n",
    "# open('./data/gen_original.txt', 'w').write(decode(model.generate(context, max_new_tokens=10000)[0].tolist()))"
   ]
  },
  {
   "cell_type": "markdown",
   "metadata": {},
   "source": [
    "### Tensor Reshaping and Slicing Tests"
   ]
  },
  {
   "cell_type": "code",
   "execution_count": 9,
   "metadata": {
    "execution": {
     "iopub.execute_input": "2023-09-07T06:43:49.721857Z",
     "iopub.status.busy": "2023-09-07T06:43:49.721482Z",
     "iopub.status.idle": "2023-09-07T06:43:49.731856Z",
     "shell.execute_reply": "2023-09-07T06:43:49.731252Z"
    }
   },
   "outputs": [
    {
     "name": "stdout",
     "output_type": "stream",
     "text": [
      "1-cooc:\n",
      "tensor([[0., 1.],\n",
      "        [2., 3.]])\n",
      "\n",
      "2-cooc:\n",
      "tensor([[0., 1.],\n",
      "        [2., 3.]])\n",
      "\n",
      "3-cooc:\n",
      "tensor([[0., 1.],\n",
      "        [2., 3.]])\n",
      "\n",
      "tensor([0., 0., 0., 1., 1., 1.])\n",
      "tensor([2., 2., 2., 3., 3., 3.])\n",
      "tensor([2., 0., 3.])\n"
     ]
    }
   ],
   "source": [
    "a = torch.zeros(2,2,3)\n",
    "for i in [0,1]:\n",
    "    for j in [0,1]:\n",
    "        a[i,j,0] = 2*i + j\n",
    "        a[i,j,1] = 2*i + j\n",
    "        a[i,j,2] = 2*i + j\n",
    "for k in [0,1,2]:\n",
    "    print(\"{}-cooc:\\n{}\\n\".format(k+1, a[:,:,k]))\n",
    "\n",
    "af = torch.flatten(a, start_dim=1)\n",
    "for i in [0,1]:\n",
    "    print(af[i])\n",
    "\n",
    "index = torch.tensor([[1,1],[0,0],[1,3]])\n",
    "ind = index[:,0] * af.size(1) + index[:,1]\n",
    "print(torch.take(af, ind))"
   ]
  }
 ],
 "metadata": {
  "kernelspec": {
   "display_name": "Python 3.9.13 ('neuro')",
   "language": "python",
   "name": "python3"
  },
  "language_info": {
   "codemirror_mode": {
    "name": "ipython",
    "version": 3
   },
   "file_extension": ".py",
   "mimetype": "text/x-python",
   "name": "python",
   "nbconvert_exporter": "python",
   "pygments_lexer": "ipython3",
   "version": "3.9.13"
  },
  "vscode": {
   "interpreter": {
    "hash": "45a9a558b30b86d9f732c54dbfd32f3dc135cf8debc1699b6136107345de1818"
   }
  }
 },
 "nbformat": 4,
 "nbformat_minor": 2
}
