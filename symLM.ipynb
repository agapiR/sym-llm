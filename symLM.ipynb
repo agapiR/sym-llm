{
 "cells": [
  {
   "cell_type": "code",
   "execution_count": 1,
   "metadata": {
    "execution": {
     "iopub.execute_input": "2023-09-07T06:23:52.152506Z",
     "iopub.status.busy": "2023-09-07T06:23:52.151774Z",
     "iopub.status.idle": "2023-09-07T06:23:53.318709Z",
     "shell.execute_reply": "2023-09-07T06:23:53.317688Z"
    }
   },
   "outputs": [],
   "source": [
    "import torch\n",
    "import torch.nn as nn\n",
    "from torch.nn import functional as F\n",
    "\n",
    "torch.manual_seed(1337)\n",
    "\n",
    "import os\n",
    "import json\n",
    "import numpy as np\n",
    "import matplotlib.pyplot as plt\n",
    "%matplotlib inline\n",
    "\n",
    "from models import GPTLanguageModel, SymGPTLanguageModel, FeedForwardSeqModel\n",
    "from utils import get_batch, estimate_loss, calculate_cooc "
   ]
  },
  {
   "cell_type": "code",
   "execution_count": 5,
   "metadata": {
    "execution": {
     "iopub.execute_input": "2023-09-07T06:23:53.324747Z",
     "iopub.status.busy": "2023-09-07T06:23:53.324512Z",
     "iopub.status.idle": "2023-09-07T06:23:53.339983Z",
     "shell.execute_reply": "2023-09-07T06:23:53.339200Z"
    }
   },
   "outputs": [],
   "source": [
    "# hyperparameters\n",
    "batch_size = 64     # how many independent sequences will we process in parallel?\n",
    "max_iters = 5000\n",
    "eval_interval = 50\n",
    "learning_rate = 3e-4\n",
    "device = 'cuda' if torch.cuda.is_available() else 'cpu'\n",
    "eval_iters = 200\n",
    "n_embd = 384 # 384\n",
    "n_head = 12  # 6\n",
    "n_layer = 1 # 6\n",
    "dropout = 0.2\n",
    "# ------------\n",
    "\n",
    "# Further setup\n",
    "block_size = n_head             # what is the maximum context length for predictions? \n",
    "                                # For fair comparison, this should be the same as the number of heads\n",
    "lowercase_only = True\n",
    "# ------------"
   ]
  },
  {
   "cell_type": "code",
   "execution_count": 6,
   "metadata": {
    "execution": {
     "iopub.execute_input": "2023-09-07T06:23:53.344801Z",
     "iopub.status.busy": "2023-09-07T06:23:53.344560Z",
     "iopub.status.idle": "2023-09-07T06:23:53.349559Z",
     "shell.execute_reply": "2023-09-07T06:23:53.348758Z"
    }
   },
   "outputs": [],
   "source": [
    "# wget https://raw.githubusercontent.com/karpathy/char-rnn/master/data/tinyshakespeare/input.txt\n",
    "with open('./data/input.txt', 'r', encoding='utf-8') as f:\n",
    "    text = f.read()\n",
    "if lowercase_only:\n",
    "    text = text.lower()"
   ]
  },
  {
   "cell_type": "code",
   "execution_count": 7,
   "metadata": {
    "execution": {
     "iopub.execute_input": "2023-09-07T06:23:53.354404Z",
     "iopub.status.busy": "2023-09-07T06:23:53.354125Z",
     "iopub.status.idle": "2023-09-07T06:23:53.442070Z",
     "shell.execute_reply": "2023-09-07T06:23:53.441224Z"
    }
   },
   "outputs": [],
   "source": [
    "# here are all the unique characters that occur in this text\n",
    "chars = sorted(list(set(text)))\n",
    "vocab_size = len(chars)\n",
    "# create a mapping from characters to integers\n",
    "stoi = { ch:i for i,ch in enumerate(chars) }\n",
    "itos = { i:ch for i,ch in enumerate(chars) }\n",
    "encode = lambda s: [stoi[c] for c in s] # encoder: take a string, output a list of integers\n",
    "decode = lambda l: ''.join([itos[i] for i in l]) # decoder: take a list of integers, output a string\n",
    "\n",
    "# Train and test splits\n",
    "data = torch.tensor(encode(text), dtype=torch.long)\n",
    "n = int(0.9*len(data)) # first 90% will be train, rest val\n",
    "train_data = data[:n]\n",
    "val_data = data[n:]\n",
    "data_dict = {'train': train_data, 'val': val_data}"
   ]
  },
  {
   "cell_type": "markdown",
   "metadata": {},
   "source": [
    "### Training\n",
    "1. Symbolic Attention Transformer\n",
    "2. Original Transformer\n",
    "3. Baseline FeedForward model"
   ]
  },
  {
   "cell_type": "code",
   "execution_count": 8,
   "metadata": {
    "execution": {
     "iopub.execute_input": "2023-09-07T06:23:53.448330Z",
     "iopub.status.busy": "2023-09-07T06:23:53.448150Z",
     "iopub.status.idle": "2023-09-07T06:25:38.886468Z",
     "shell.execute_reply": "2023-09-07T06:25:38.885423Z"
    }
   },
   "outputs": [],
   "source": [
    "outdir = './res/res_{}_{}_{}_{}_{}_{}_{}_{}_{}'.format(block_size, n_embd, n_head, n_layer, batch_size, learning_rate, dropout, vocab_size, max_iters)\n",
    "os.makedirs(outdir, exist_ok=True)"
   ]
  },
  {
   "cell_type": "code",
   "execution_count": null,
   "metadata": {},
   "outputs": [],
   "source": [
    "model_types = ['symbolic', 'original', 'baseline']"
   ]
  },
  {
   "cell_type": "code",
   "execution_count": 17,
   "metadata": {
    "execution": {
     "iopub.execute_input": "2023-09-07T06:25:38.944092Z",
     "iopub.status.busy": "2023-09-07T06:25:38.943718Z",
     "iopub.status.idle": "2023-09-07T06:42:05.300106Z",
     "shell.execute_reply": "2023-09-07T06:42:05.299280Z"
    }
   },
   "outputs": [
    {
     "name": "stdout",
     "output_type": "stream",
     "text": [
      "From SymbolicMultiHeadAttention: N 39, K 12, hs 468, embedding_dim 128\n",
      "======>\n",
      "Model type:  symbolic\n",
      "1.075255 M parameters\n",
      "Model:  SymGPTLanguageModel(\n",
      "  (blocks): Sequential(\n",
      "    (0): SymbolicBlock(\n",
      "      (sa): SymbolicMultiHeadAttention(\n",
      "        (heads): ModuleList(\n",
      "          (0): SymbolicAttentionHead(\n",
      "            (value): Embedding(39, 468)\n",
      "          )\n",
      "          (1): SymbolicAttentionHead(\n",
      "            (value): Embedding(39, 468)\n",
      "          )\n",
      "          (2): SymbolicAttentionHead(\n",
      "            (value): Embedding(39, 468)\n",
      "          )\n",
      "          (3): SymbolicAttentionHead(\n",
      "            (value): Embedding(39, 468)\n",
      "          )\n",
      "          (4): SymbolicAttentionHead(\n",
      "            (value): Embedding(39, 468)\n",
      "          )\n",
      "          (5): SymbolicAttentionHead(\n",
      "            (value): Embedding(39, 468)\n",
      "          )\n",
      "          (6): SymbolicAttentionHead(\n",
      "            (value): Embedding(39, 468)\n",
      "          )\n",
      "          (7): SymbolicAttentionHead(\n",
      "            (value): Embedding(39, 468)\n",
      "          )\n",
      "          (8): SymbolicAttentionHead(\n",
      "            (value): Embedding(39, 468)\n",
      "          )\n",
      "          (9): SymbolicAttentionHead(\n",
      "            (value): Embedding(39, 468)\n",
      "          )\n",
      "          (10): SymbolicAttentionHead(\n",
      "            (value): Embedding(39, 468)\n",
      "          )\n",
      "          (11): SymbolicAttentionHead(\n",
      "            (value): Embedding(39, 468)\n",
      "          )\n",
      "        )\n",
      "        (proj): Linear(in_features=5616, out_features=128, bias=True)\n",
      "        (dropout): Dropout(p=0.2, inplace=False)\n",
      "      )\n",
      "      (ffwd): FeedFoward(\n",
      "        (net): Sequential(\n",
      "          (0): Linear(in_features=128, out_features=512, bias=True)\n",
      "          (1): ReLU()\n",
      "          (2): Linear(in_features=512, out_features=128, bias=True)\n",
      "          (3): Dropout(p=0.2, inplace=False)\n",
      "        )\n",
      "      )\n",
      "      (ln): LayerNorm((128,), eps=1e-05, elementwise_affine=True)\n",
      "    )\n",
      "  )\n",
      "  (ln_f): LayerNorm((128,), eps=1e-05, elementwise_affine=True)\n",
      "  (lm_head): Linear(in_features=128, out_features=39, bias=True)\n",
      ")\n",
      "step 0: train loss 3.7249, val loss 3.7202\n",
      "step 50: train loss 3.0247, val loss 3.0369\n",
      "step 100: train loss 2.8686, val loss 2.8764\n",
      "step 150: train loss 2.7854, val loss 2.7815\n",
      "step 200: train loss 2.7238, val loss 2.7151\n",
      "step 250: train loss 2.6898, val loss 2.6754\n",
      "step 300: train loss 2.6419, val loss 2.6339\n",
      "step 350: train loss 2.6390, val loss 2.6296\n",
      "step 400: train loss 2.6562, val loss 2.6395\n",
      "step 450: train loss 2.6294, val loss 2.6249\n",
      "step 500: train loss 2.5985, val loss 2.5872\n",
      "step 550: train loss 2.5918, val loss 2.5862\n",
      "step 600: train loss 2.5843, val loss 2.5863\n",
      "step 650: train loss 2.5806, val loss 2.5813\n",
      "step 700: train loss 2.5920, val loss 2.5793\n",
      "step 750: train loss 2.5695, val loss 2.5627\n",
      "step 800: train loss 2.5732, val loss 2.5703\n",
      "step 850: train loss 2.5562, val loss 2.5528\n",
      "step 900: train loss 2.5742, val loss 2.5728\n",
      "step 950: train loss 2.5579, val loss 2.5655\n",
      "step 1000: train loss 2.5544, val loss 2.5612\n",
      "step 1050: train loss 2.5435, val loss 2.5446\n",
      "step 1100: train loss 2.5577, val loss 2.5623\n",
      "step 1150: train loss 2.5481, val loss 2.5434\n",
      "step 1200: train loss 2.5367, val loss 2.5277\n",
      "step 1250: train loss 2.5359, val loss 2.5284\n",
      "step 1300: train loss 2.5464, val loss 2.5444\n",
      "step 1350: train loss 2.5468, val loss 2.5455\n",
      "step 1400: train loss 2.5326, val loss 2.5362\n",
      "step 1450: train loss 2.5308, val loss 2.5264\n",
      "step 1500: train loss 2.5607, val loss 2.5555\n",
      "step 1550: train loss 2.5231, val loss 2.5280\n",
      "step 1600: train loss 2.5155, val loss 2.5201\n",
      "step 1650: train loss 2.5225, val loss 2.5137\n",
      "step 1700: train loss 2.5120, val loss 2.5156\n",
      "step 1750: train loss 2.5081, val loss 2.5097\n",
      "step 1800: train loss 2.5281, val loss 2.5183\n",
      "step 1850: train loss 2.5306, val loss 2.5293\n",
      "step 1900: train loss 2.5220, val loss 2.5212\n",
      "step 1950: train loss 2.5417, val loss 2.5374\n",
      "step 2000: train loss 2.5192, val loss 2.5144\n",
      "step 2050: train loss 2.5158, val loss 2.5219\n",
      "step 2100: train loss 2.5182, val loss 2.5198\n",
      "step 2150: train loss 2.5440, val loss 2.5462\n",
      "step 2200: train loss 2.5189, val loss 2.5226\n",
      "step 2250: train loss 2.5187, val loss 2.5112\n",
      "step 2300: train loss 2.5112, val loss 2.5113\n",
      "step 2350: train loss 2.5115, val loss 2.4987\n",
      "step 2400: train loss 2.5291, val loss 2.5379\n",
      "step 2450: train loss 2.5125, val loss 2.5112\n",
      "step 2500: train loss 2.5064, val loss 2.5135\n",
      "step 2550: train loss 2.5084, val loss 2.5185\n",
      "step 2600: train loss 2.5233, val loss 2.5249\n",
      "step 2650: train loss 2.4999, val loss 2.5027\n",
      "step 2700: train loss 2.5056, val loss 2.5019\n",
      "step 2750: train loss 2.5146, val loss 2.5036\n",
      "step 2800: train loss 2.5048, val loss 2.5031\n",
      "step 2850: train loss 2.5219, val loss 2.5222\n",
      "step 2900: train loss 2.5059, val loss 2.5027\n",
      "step 2950: train loss 2.5102, val loss 2.5108\n",
      "step 3000: train loss 2.5118, val loss 2.5081\n",
      "step 3050: train loss 2.5095, val loss 2.5101\n",
      "step 3100: train loss 2.5132, val loss 2.5155\n",
      "step 3150: train loss 2.5154, val loss 2.5173\n",
      "step 3200: train loss 2.5196, val loss 2.5142\n",
      "step 3250: train loss 2.4946, val loss 2.4918\n",
      "step 3300: train loss 2.4979, val loss 2.4933\n",
      "step 3350: train loss 2.4901, val loss 2.4883\n",
      "step 3400: train loss 2.4911, val loss 2.4980\n",
      "step 3450: train loss 2.5009, val loss 2.5054\n",
      "step 3500: train loss 2.5124, val loss 2.5124\n",
      "step 3550: train loss 2.4902, val loss 2.4954\n",
      "step 3600: train loss 2.4941, val loss 2.4935\n",
      "step 3650: train loss 2.4919, val loss 2.5032\n",
      "step 3700: train loss 2.5156, val loss 2.5032\n",
      "step 3750: train loss 2.5076, val loss 2.5072\n",
      "step 3800: train loss 2.4989, val loss 2.5005\n",
      "step 3850: train loss 2.4999, val loss 2.4942\n",
      "step 3900: train loss 2.5073, val loss 2.4974\n",
      "step 3950: train loss 2.5132, val loss 2.5048\n",
      "step 4000: train loss 2.4814, val loss 2.4885\n",
      "step 4050: train loss 2.4863, val loss 2.4787\n",
      "step 4100: train loss 2.4943, val loss 2.4970\n",
      "step 4150: train loss 2.4817, val loss 2.4818\n",
      "step 4200: train loss 2.4960, val loss 2.4906\n",
      "step 4250: train loss 2.4905, val loss 2.4932\n",
      "step 4300: train loss 2.5263, val loss 2.5233\n",
      "step 4350: train loss 2.5050, val loss 2.5006\n",
      "step 4400: train loss 2.5016, val loss 2.5090\n",
      "step 4450: train loss 2.4946, val loss 2.4929\n",
      "step 4500: train loss 2.4937, val loss 2.4966\n",
      "step 4550: train loss 2.4875, val loss 2.4798\n",
      "step 4600: train loss 2.5073, val loss 2.5095\n",
      "step 4650: train loss 2.4814, val loss 2.4893\n",
      "step 4700: train loss 2.5016, val loss 2.5037\n",
      "step 4750: train loss 2.4863, val loss 2.4810\n",
      "step 4800: train loss 2.4956, val loss 2.4928\n",
      "step 4850: train loss 2.5139, val loss 2.5140\n",
      "step 4900: train loss 2.5019, val loss 2.5046\n",
      "step 4950: train loss 2.4800, val loss 2.4810\n",
      "step 4999: train loss 2.4860, val loss 2.4819\n"
     ]
    }
   ],
   "source": [
    "for model_type in model_types:\n",
    "    if model_type=='symbolic':\n",
    "        # preprocessing: Co-occurence matrix calculation\n",
    "        cooc = calculate_cooc(data_dict['train'], vocab_size, n_head, device=device)\n",
    "        model = SymGPTLanguageModel(vocab_size, n_embd, n_head, n_layer, block_size, dropout, device, cooc)  \n",
    "    elif model_type=='original':\n",
    "        model = GPTLanguageModel(vocab_size, n_embd, n_head, n_layer, block_size, dropout, device)\n",
    "    elif model_type=='baseline':\n",
    "        model = FeedForwardSeqModel(vocab_size, n_embd, n_head, n_layer, block_size, dropout, device)\n",
    "    else:\n",
    "        assert False, \"Undefined model type.\"\n",
    "    model = model.to(device)\n",
    "    print('======>\\nModel type: ', model_type)\n",
    "    # print the number of parameters in the model\n",
    "    print(sum(p.numel() for p in model.parameters())/1e6, 'M parameters')\n",
    "    # print model summary\n",
    "    print('Model: ', model)\n",
    "\n",
    "    # create a PyTorch optimizer\n",
    "    optimizer = torch.optim.AdamW(model.parameters(), lr=learning_rate)\n",
    "\n",
    "    # bookkeeping\n",
    "    losses_log = dict({'iter': [], 'train': [], 'val': []})\n",
    "\n",
    "    for iter in range(max_iters):\n",
    "\n",
    "        # every once in a while evaluate the loss on train and val sets\n",
    "        if iter % eval_interval == 0 or iter == max_iters - 1:\n",
    "            losses = estimate_loss(model, data_dict, eval_iters, block_size, batch_size, device=device)\n",
    "            print(f\"step {iter}: train loss {losses['train']:.4f}, val loss {losses['val']:.4f}\")\n",
    "            losses_log['train'].append(losses['train'].item())\n",
    "            losses_log['val'].append(losses['val'].item())\n",
    "            losses_log['iter'].append(iter)\n",
    "\n",
    "        # sample a batch of data\n",
    "        xb, yb = get_batch(data_dict, 'train', block_size, batch_size, device)\n",
    "\n",
    "        # evaluate the loss\n",
    "        logits, loss = model(xb, yb)\n",
    "        optimizer.zero_grad(set_to_none=True)\n",
    "        loss.backward()\n",
    "        optimizer.step()\n",
    "\n",
    "    # save losses\n",
    "    with open('{}/losses_{}.json'.format(outdir, model_type), 'w') as fp:\n",
    "        json.dump(losses_log, fp)\n",
    "\n",
    "    # save model\n",
    "    torch.save(model.state_dict(), '{}/gpt_{}.pth'.format(outdir, model_type))\n",
    "\n",
    "    # # generate from the model\n",
    "    # context = torch.zeros((1), dtype=torch.long, device=device)\n",
    "    # # print(decode(model.generate(context, max_new_tokens=500)[0].tolist()))\n",
    "    # open('./{}/gen_{}.txt'.format(outdir, model_type), 'w').write(decode(model.generate(context, max_new_tokens=10000)[0].tolist()))"
   ]
  },
  {
   "cell_type": "markdown",
   "metadata": {},
   "source": [
    "### Evaluation"
   ]
  },
  {
   "cell_type": "code",
   "execution_count": 9,
   "metadata": {},
   "outputs": [
    {
     "data": {
      "image/png": "[encoded data removed]",
      "text/plain": [
       "<Figure size 432x288 with 1 Axes>"
      ]
     },
     "metadata": {
      "needs_background": "light"
     },
     "output_type": "display_data"
    }
   ],
   "source": [
    "colors = {'symbolic': 'orange', 'original': 'blue', 'baseline': 'green'}\n",
    "\n",
    "for r in ['symbolic', 'original', 'baseline']:\n",
    "    with open('{}/losses_{}.json'.format(outdir, r), 'r') as f:\n",
    "        losses = json.load(f)\n",
    "    plt.plot(losses['iter'], losses['val'], label='{}-{}'.format(r,'validation'), linestyle='solid', color=colors[r])\n",
    "    plt.plot(losses['iter'], losses['train'], label='{}-{}'.format(r,'training'), linestyle='dashed', color=colors[r])\n",
    "    plt.legend()\n",
    "    plt.xlabel(\"Loss\")\n",
    "    plt.ylabel(\"Iterations\")\n",
    "plt.savefig('./figs/learning_curves_{}_{}_{}_{}_{}_{}_{}_{}_{}.png'.format(block_size, n_embd, n_head, n_layer, batch_size, learning_rate, dropout, vocab_size, max_iters))"
   ]
  },
  {
   "cell_type": "markdown",
   "metadata": {},
   "source": [
    "### Various Tests"
   ]
  },
  {
   "cell_type": "code",
   "execution_count": 11,
   "metadata": {},
   "outputs": [
    {
     "data": {
      "image/png": "[encoded data removed]",
      "text/plain": [
       "<Figure size 432x288 with 1 Axes>"
      ]
     },
     "metadata": {
      "needs_background": "light"
     },
     "output_type": "display_data"
    }
   ],
   "source": [
    "# # Preprocessing: Co-occurence matrix calculation\n",
    "cooc = calculate_cooc(data_dict['train'], vocab_size, n_head, device=device)\n",
    "for h in range(n_head):\n",
    "    # print(\"{}-cooc:\\n{}\\n\".format(h+1, cooc[:,:,h]))\n",
    "    plt.imshow(cooc[:,:,h].cpu().numpy())\n",
    "    plt.savefig('./figs/{}-cooc.png'.format(h+1))"
   ]
  },
  {
   "cell_type": "code",
   "execution_count": null,
   "metadata": {
    "execution": {
     "iopub.execute_input": "2023-09-07T06:43:49.721857Z",
     "iopub.status.busy": "2023-09-07T06:43:49.721482Z",
     "iopub.status.idle": "2023-09-07T06:43:49.731856Z",
     "shell.execute_reply": "2023-09-07T06:43:49.731252Z"
    }
   },
   "outputs": [
    {
     "name": "stdout",
     "output_type": "stream",
     "text": [
      "1-cooc:\n",
      "tensor([[0., 1.],\n",
      "        [2., 3.]])\n",
      "\n",
      "2-cooc:\n",
      "tensor([[0., 1.],\n",
      "        [2., 3.]])\n",
      "\n",
      "3-cooc:\n",
      "tensor([[0., 1.],\n",
      "        [2., 3.]])\n",
      "\n",
      "tensor([0., 0., 0., 1., 1., 1.])\n",
      "tensor([2., 2., 2., 3., 3., 3.])\n",
      "tensor([2., 0., 3.])\n"
     ]
    }
   ],
   "source": [
    "# # Tensor Reshaping and Slicing Tests\n",
    "# a = torch.zeros(2,2,3)\n",
    "# for i in [0,1]:\n",
    "#     for j in [0,1]:\n",
    "#         a[i,j,0] = 2*i + j\n",
    "#         a[i,j,1] = 2*i + j\n",
    "#         a[i,j,2] = 2*i + j\n",
    "# for k in [0,1,2]:\n",
    "#     print(\"{}-cooc:\\n{}\\n\".format(k+1, a[:,:,k]))\n",
    "\n",
    "# af = torch.flatten(a, start_dim=1)\n",
    "# for i in [0,1]:\n",
    "#     print(af[i])\n",
    "\n",
    "# index = torch.tensor([[1,1],[0,0],[1,3]])\n",
    "# ind = index[:,0] * af.size(1) + index[:,1]\n",
    "# print(torch.take(af, ind))"
   ]
  },
  {
   "cell_type": "code",
   "execution_count": null,
   "metadata": {
    "execution": {
     "iopub.execute_input": "2023-09-07T06:42:05.306966Z",
     "iopub.status.busy": "2023-09-07T06:42:05.306759Z",
     "iopub.status.idle": "2023-09-07T06:42:05.310920Z",
     "shell.execute_reply": "2023-09-07T06:42:05.310211Z"
    }
   },
   "outputs": [],
   "source": [
    "# # Test Example\n",
    "\n",
    "# block_size_t = 4\n",
    "# device_t = 'cuda' if torch.cuda.is_available() else 'cpu'\n",
    "# n_embd_t = 12\n",
    "# n_head_t = 3\n",
    "# n_layer_t = 1\n",
    "# dropout_t = 0.2\n",
    "\n",
    "# text = [0,2,3,1,1,4,2,3,1]\n",
    "# data = torch.tensor(text, dtype=torch.long)\n",
    "# vocab_size_t = len(list(set(text)))\n",
    "# cooc = calculate_cooc(text, vocab_size_t, n_head_t, device=device_t)\n",
    "# # for h in range(n_head_t):\n",
    "# #     print(\"{}-cooc:\\n{}\\n\".format(h+1, cooc[:,:,h]))\n",
    "\n",
    "# # sample a batch of data\n",
    "# batches_anchor = [0, 1]\n",
    "# x = torch.stack([data[i:i+block_size_t] for i in batches_anchor])\n",
    "# y = torch.stack([data[i+1:i+block_size_t+1] for i in batches_anchor])\n",
    "# x, y = x.to(device_t), y.to(device_t)"
   ]
  },
  {
   "cell_type": "code",
   "execution_count": 8,
   "metadata": {},
   "outputs": [
    {
     "data": {
      "image/png": "[encoded data removed]",
      "text/plain": [
       "<Figure size 432x288 with 1 Axes>"
      ]
     },
     "metadata": {
      "needs_background": "light"
     },
     "output_type": "display_data"
    }
   ],
   "source": [
    "colors = {'symbolic': 'orange', 'original': 'blue', 'baseline': 'green'}\n",
    "model = 'symbolic'\n",
    "n_seed = 10000\n",
    "\n",
    "outdir = './res/res_12_128_12_1_64_0.0003_0.2_39_5000'\n",
    "with open('{}/losses_{}.json'.format(outdir, model), 'r') as f:\n",
    "    losses = json.load(f)\n",
    "baseline_loss = losses['val']\n",
    "for n_head,intermediate_vocab_size_f  in [(6, [1.5])]:# , (6, [1.5, 2.0])]:\n",
    "    outdir = './res/res_encoding_decoding_{}_{}_{}'.format(n_head, '-'.join([str(f) for f in intermediate_vocab_size_f]), n_seed)\n",
    "    with open('{}/losses_{}.json'.format(outdir, model), 'r') as f:\n",
    "        losses = json.load(f)\n",
    "    plt.plot(losses['iter'], losses['val'], \n",
    "             label='{}-{}-{}'.format(model,'validation', 'heads={}, f={}'.format(n_head, '-'.join([str(f) for f in intermediate_vocab_size_f]))))\n",
    "plt.plot(losses['iter'], baseline_loss[:len(losses['iter'])], label='{}-{}-{}'.format(model,'validation', 'heads=12, wo re-writes'))\n",
    "plt.legend()\n",
    "plt.xlabel(\"Iterations\")\n",
    "plt.ylabel(\"Loss\")\n",
    "plt.savefig('./figs/learning_curves_w_wo_rewrites.png')"
   ]
  }
 ],
 "metadata": {
  "kernelspec": {
   "display_name": "Python 3.9.13 ('neuro')",
   "language": "python",
   "name": "python3"
  },
  "language_info": {
   "codemirror_mode": {
    "name": "ipython",
    "version": 3
   },
   "file_extension": ".py",
   "mimetype": "text/x-python",
   "name": "python",
   "nbconvert_exporter": "python",
   "pygments_lexer": "ipython3",
   "version": "3.9.13"
  },
  "vscode": {
   "interpreter": {
    "hash": "45a9a558b30b86d9f732c54dbfd32f3dc135cf8debc1699b6136107345de1818"
   }
  }
 },
 "nbformat": 4,
 "nbformat_minor": 2
}
